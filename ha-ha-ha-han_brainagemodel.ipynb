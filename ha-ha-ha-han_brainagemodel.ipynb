{
 "cells": [
  {
   "cell_type": "code",
   "execution_count": 1,
   "metadata": {},
   "outputs": [],
   "source": [
    "from dp_model.model_files.sfcn import SFCN\n",
    "from dp_model import dp_loss as dpl\n",
    "from dp_model import dp_utils as dpu\n",
    "import torch\n",
    "import torch.nn.functional as F\n",
    "import numpy as np\n",
    "import matplotlib.pyplot as plt\n",
    "import glob\n",
    "import os\n",
    "import nibabel as nib\n",
    "import pandas as pd\n",
    "from tqdm.autonotebook import tqdm\n",
    "from sklearn.metrics import mean_absolute_error\n",
    "import shutil\n",
    "import zipfile"
   ]
  },
  {
   "cell_type": "code",
   "execution_count": 2,
   "metadata": {},
   "outputs": [
    {
     "name": "stdout",
     "output_type": "stream",
     "text": [
      "1.11.0+cu102\n"
     ]
    }
   ],
   "source": [
    "print(torch.__version__)"
   ]
  },
  {
   "cell_type": "code",
   "execution_count": 3,
   "metadata": {},
   "outputs": [
    {
     "data": {
      "text/plain": [
       "DataParallel(\n",
       "  (module): SFCN(\n",
       "    (feature_extractor): Sequential(\n",
       "      (conv_0): Sequential(\n",
       "        (0): Conv3d(1, 32, kernel_size=(3, 3, 3), stride=(1, 1, 1), padding=(1, 1, 1))\n",
       "        (1): BatchNorm3d(32, eps=1e-05, momentum=0.1, affine=True, track_running_stats=True)\n",
       "        (2): MaxPool3d(kernel_size=2, stride=2, padding=0, dilation=1, ceil_mode=False)\n",
       "        (3): ReLU()\n",
       "      )\n",
       "      (conv_1): Sequential(\n",
       "        (0): Conv3d(32, 64, kernel_size=(3, 3, 3), stride=(1, 1, 1), padding=(1, 1, 1))\n",
       "        (1): BatchNorm3d(64, eps=1e-05, momentum=0.1, affine=True, track_running_stats=True)\n",
       "        (2): MaxPool3d(kernel_size=2, stride=2, padding=0, dilation=1, ceil_mode=False)\n",
       "        (3): ReLU()\n",
       "      )\n",
       "      (conv_2): Sequential(\n",
       "        (0): Conv3d(64, 128, kernel_size=(3, 3, 3), stride=(1, 1, 1), padding=(1, 1, 1))\n",
       "        (1): BatchNorm3d(128, eps=1e-05, momentum=0.1, affine=True, track_running_stats=True)\n",
       "        (2): MaxPool3d(kernel_size=2, stride=2, padding=0, dilation=1, ceil_mode=False)\n",
       "        (3): ReLU()\n",
       "      )\n",
       "      (conv_3): Sequential(\n",
       "        (0): Conv3d(128, 256, kernel_size=(3, 3, 3), stride=(1, 1, 1), padding=(1, 1, 1))\n",
       "        (1): BatchNorm3d(256, eps=1e-05, momentum=0.1, affine=True, track_running_stats=True)\n",
       "        (2): MaxPool3d(kernel_size=2, stride=2, padding=0, dilation=1, ceil_mode=False)\n",
       "        (3): ReLU()\n",
       "      )\n",
       "      (conv_4): Sequential(\n",
       "        (0): Conv3d(256, 256, kernel_size=(3, 3, 3), stride=(1, 1, 1), padding=(1, 1, 1))\n",
       "        (1): BatchNorm3d(256, eps=1e-05, momentum=0.1, affine=True, track_running_stats=True)\n",
       "        (2): MaxPool3d(kernel_size=2, stride=2, padding=0, dilation=1, ceil_mode=False)\n",
       "        (3): ReLU()\n",
       "      )\n",
       "      (conv_5): Sequential(\n",
       "        (0): Conv3d(256, 64, kernel_size=(1, 1, 1), stride=(1, 1, 1))\n",
       "        (1): BatchNorm3d(64, eps=1e-05, momentum=0.1, affine=True, track_running_stats=True)\n",
       "        (2): ReLU()\n",
       "      )\n",
       "    )\n",
       "    (classifier): Sequential(\n",
       "      (average_pool): AvgPool3d(kernel_size=[5, 6, 5], stride=[5, 6, 5], padding=0)\n",
       "      (dropout): Dropout(p=0.5, inplace=False)\n",
       "      (conv_6): Conv3d(64, 40, kernel_size=(1, 1, 1), stride=(1, 1, 1))\n",
       "    )\n",
       "  )\n",
       ")"
      ]
     },
     "execution_count": 3,
     "metadata": {},
     "output_type": "execute_result"
    }
   ],
   "source": [
    "model = SFCN()\n",
    "model = torch.nn.DataParallel(model)\n",
    "fp_ = './brain_age/run_20190719_00_epoch_best_mae.p'\n",
    "model.load_state_dict(torch.load(fp_))\n",
    "model.cuda()"
   ]
  },
  {
   "cell_type": "code",
   "execution_count": 4,
   "metadata": {},
   "outputs": [],
   "source": [
    "path = '/home/jruffle/Desktop/brc2/'\n",
    "metadata_test = pd.read_csv(path+'james/BIOBANK/TEST/metadata_test.csv',index_col=0)\n",
    "metadata_test=metadata_test[::2].reset_index(drop=True) \n",
    "metadata_test['SCFN_age_prediction']=0\n",
    "metadata_test['SCFN_age_prediction_KL']=0"
   ]
  },
  {
   "cell_type": "code",
   "execution_count": 5,
   "metadata": {},
   "outputs": [
    {
     "data": {
      "application/vnd.jupyter.widget-view+json": {
       "model_id": "26b31271366c4f4fb2f9ff5ab115f6eb",
       "version_major": 2,
       "version_minor": 0
      },
      "text/plain": [
       "  0%|          | 0/2381 [00:00<?, ?it/s]"
      ]
     },
     "metadata": {},
     "output_type": "display_data"
    }
   ],
   "source": [
    "for i, row in tqdm(metadata_test.iterrows(),total=metadata_test.shape[0]):\n",
    "    zip_t1 = sorted(glob.glob(path+'Biobank/biobank_T1/'+str(int(row['biobank_id']))+'*.zip'))[0]\n",
    "    \n",
    "    with zipfile.ZipFile(zip_t1) as z:\n",
    "        with z.open('T1/T1_brain_to_MNI.nii.gz') as zf, open('/home/jruffle/Desktop/T1_temp.nii.gz', 'wb') as f:\n",
    "            shutil.copyfileobj(zf, f)\n",
    "    \n",
    "    data = np.asanyarray(nib.load('/home/jruffle/Desktop/T1_temp.nii.gz').dataobj)\n",
    "    \n",
    "    label = row['age']\n",
    "\n",
    "    # Transforming the age to soft label (probability distribution)\n",
    "    bin_range = [42,82]\n",
    "    bin_step = 1\n",
    "    sigma = 1\n",
    "    y, bc = dpu.num2vect(label, bin_range, bin_step, sigma)\n",
    "    y = torch.tensor(y, dtype=torch.float32)\n",
    "\n",
    "    # Preprocessing\n",
    "    data = data/data.mean()\n",
    "    data = dpu.crop_center(data, (160, 192, 160))\n",
    "\n",
    "    # Move the data from numpy to torch tensor on GPU\n",
    "    sp = (1,1)+data.shape\n",
    "    data = data.reshape(sp)\n",
    "    input_data = torch.tensor(data, dtype=torch.float32).cuda()\n",
    "    \n",
    "    # Evaluation\n",
    "    model.eval() # Don't forget this. BatchNorm will be affected if not in eval mode.\n",
    "    with torch.no_grad():\n",
    "        output = model(input_data)\n",
    "\n",
    "    # Output, loss, visualisation\n",
    "    x = output[0].cpu().reshape([1, -1])\n",
    "    loss = dpl.my_KLDivLoss(x, y).numpy()\n",
    "\n",
    "    # Prediction, Visualisation and Summary\n",
    "    x = x.numpy().reshape(-1)\n",
    "    y = y.numpy().reshape(-1)\n",
    "\n",
    "    prob = np.exp(x)\n",
    "    pred = prob@bc\n",
    "\n",
    "    metadata_test.loc[i,'SCFN_age_prediction']=pred\n",
    "    metadata_test.loc[i,'SCFN_age_prediction_KL']=loss\n",
    "    os.remove('/home/jruffle/Desktop/T1_temp.nii.gz')"
   ]
  },
  {
   "cell_type": "code",
   "execution_count": 7,
   "metadata": {},
   "outputs": [
    {
     "name": "stdout",
     "output_type": "stream",
     "text": [
      "5.045779683905161\n"
     ]
    }
   ],
   "source": [
    "print(mean_absolute_error(metadata_test['age'], metadata_test['SCFN_age_prediction']))"
   ]
  }
 ],
 "metadata": {
  "kernelspec": {
   "display_name": "Python 3 (ipykernel)",
   "language": "python",
   "name": "python3"
  },
  "language_info": {
   "codemirror_mode": {
    "name": "ipython",
    "version": 3
   },
   "file_extension": ".py",
   "mimetype": "text/x-python",
   "name": "python",
   "nbconvert_exporter": "python",
   "pygments_lexer": "ipython3",
   "version": "3.8.10"
  }
 },
 "nbformat": 4,
 "nbformat_minor": 2
}
